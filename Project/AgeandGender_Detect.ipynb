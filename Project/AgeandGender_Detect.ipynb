{
  "nbformat": 4,
  "nbformat_minor": 0,
  "metadata": {
    "accelerator": "GPU",
    "colab": {
      "name": "AgeandGender_Detect.ipynb",
      "provenance": [],
      "collapsed_sections": [],
      "include_colab_link": true
    },
    "kernelspec": {
      "display_name": "Python 3",
      "name": "python3"
    },
    "language_info": {
      "name": "python"
    }
  },
  "cells": [
    {
      "cell_type": "markdown",
      "metadata": {
        "id": "view-in-github",
        "colab_type": "text"
      },
      "source": [
        "<a href=\"https://colab.research.google.com/github/HoangLong1907/ImageProcessing-CS406.M11.KHCL/blob/main/Project/AgeandGender_Detect.ipynb\" target=\"_parent\"><img src=\"https://colab.research.google.com/assets/colab-badge.svg\" alt=\"Open In Colab\"/></a>"
      ]
    },
    {
      "cell_type": "code",
      "metadata": {
        "colab": {
          "base_uri": "https://localhost:8080/"
        },
        "id": "J4rtHp3tXMGn",
        "outputId": "08968781-009e-4c03-8056-7f9869f3546b"
      },
      "source": [
        "import os\n",
        "from google.colab import drive\n",
        "drive.mount('/content/drive')"
      ],
      "execution_count": null,
      "outputs": [
        {
          "output_type": "stream",
          "name": "stdout",
          "text": [
            "Mounted at /content/drive\n"
          ]
        }
      ]
    },
    {
      "cell_type": "code",
      "metadata": {
        "id": "-J2QovmkZHfm"
      },
      "source": [
        "fldr = '/content/drive/MyDrive/Đại số máy tính/Đồ án Xử lý ảnh/Dataset/UTK Face/UTKFace'"
      ],
      "execution_count": null,
      "outputs": []
    },
    {
      "cell_type": "code",
      "metadata": {
        "colab": {
          "base_uri": "https://localhost:8080/"
        },
        "id": "YmBAfQH5XdNq",
        "outputId": "768db94f-d3e9-4530-c60a-901816a65a91"
      },
      "source": [
        "files=os.listdir(fldr)\n",
        "print(int(files[0].split('_')[0]))\n",
        "print(files[0])"
      ],
      "execution_count": null,
      "outputs": [
        {
          "output_type": "stream",
          "name": "stdout",
          "text": [
            "50\n",
            "50_0_0_20170120221455142.jpg.chip.jpg\n"
          ]
        }
      ]
    },
    {
      "cell_type": "code",
      "metadata": {
        "id": "o9T2HQfsXy15"
      },
      "source": [
        "import cv2\n",
        "ages=[]\n",
        "genders=[]\n",
        "images=[]\n",
        "\n",
        "for i, fle in enumerate(files):\n",
        "  age=int(fle.split('_')[0])\n",
        "  gender=int(fle.split('_')[1])\n",
        "  total=fldr+'/'+fle\n",
        "  image=cv2.imread(total)\n",
        "\n",
        "  image = cv2.cvtColor(image, cv2.COLOR_BGR2RGB)\n",
        "  image= cv2.resize(image,(48,48))\n",
        "  images.append(image)\n",
        "#   if i % 1000 == 0:\n",
        "#     print(i)"
      ],
      "execution_count": null,
      "outputs": []
    },
    {
      "cell_type": "code",
      "metadata": {
        "id": "gqFqU8dmZFsV"
      },
      "source": [
        "for fle in files:\n",
        "  age=int(fle.split('_')[0])\n",
        "  gender=int(fle.split('_')[1])\n",
        "  ages.append(age)\n",
        "  genders.append(gender)"
      ],
      "execution_count": null,
      "outputs": []
    },
    {
      "cell_type": "code",
      "metadata": {
        "colab": {
          "base_uri": "https://localhost:8080/",
          "height": 65
        },
        "id": "h3IdVT1N50hR",
        "outputId": "f6e6ec11-1834-46a2-c55d-b1b69132f7a4"
      },
      "source": [
        "from google.colab.patches import cv2_imshow\n",
        "cv2_imshow(images[24])"
      ],
      "execution_count": null,
      "outputs": [
        {
          "output_type": "display_data",
          "data": {
            "image/png": "[encoded data removed]",
            "text/plain": [
              "<PIL.Image.Image image mode=RGB size=48x48 at 0x7F0647610650>"
            ]
          },
          "metadata": {}
        }
      ]
    },
    {
      "cell_type": "code",
      "metadata": {
        "colab": {
          "base_uri": "https://localhost:8080/"
        },
        "id": "MnLr8AV-a8Dh",
        "outputId": "243bbfcc-9e3f-4a44-e3d3-fc971c2a1510"
      },
      "source": [
        "print(ages[24])\n",
        "print(genders[24])"
      ],
      "execution_count": null,
      "outputs": [
        {
          "output_type": "stream",
          "name": "stdout",
          "text": [
            "50\n",
            "1\n"
          ]
        }
      ]
    },
    {
      "cell_type": "code",
      "metadata": {
        "id": "3Kq-QlN6579I"
      },
      "source": [
        "import numpy as np\n",
        "images_f=np.array(images)\n",
        "genders_f=np.array(genders)\n",
        "ages_f=np.array(ages)"
      ],
      "execution_count": null,
      "outputs": []
    },
    {
      "cell_type": "code",
      "metadata": {
        "id": "stj4x3LM5-fI"
      },
      "source": [
        "np.save('/content/drive/MyDrive/Đại số máy tính/Đồ án Xử lý ảnh/Dataset/UTK Face/image.npy',images_f)\n",
        "np.save('/content/drive/MyDrive/Đại số máy tính/Đồ án Xử lý ảnh/Dataset/UTK Face/gender.npy',genders_f)\n",
        "np.save('/content/drive/MyDrive/Đại số máy tính/Đồ án Xử lý ảnh/Dataset/UTK Face/age.npy',ages_f)"
      ],
      "execution_count": null,
      "outputs": []
    },
    {
      "cell_type": "code",
      "metadata": {
        "colab": {
          "base_uri": "https://localhost:8080/"
        },
        "id": "IDgBa_Zx6JD9",
        "outputId": "7c81a571-dbd2-49d4-cc4e-46e33aba919f"
      },
      "source": [
        "values, counts = np.unique(genders_f, return_counts=True)\n",
        "print(counts)"
      ],
      "execution_count": null,
      "outputs": [
        {
          "output_type": "stream",
          "name": "stdout",
          "text": [
            "[12391 11317]\n"
          ]
        }
      ]
    },
    {
      "cell_type": "code",
      "metadata": {
        "colab": {
          "base_uri": "https://localhost:8080/"
        },
        "id": "836bkcJN6LHd",
        "outputId": "3f26f3cf-b85d-448f-c8a1-4cf573b6481f"
      },
      "source": [
        "import matplotlib.pyplot as plt\n",
        "fig = plt.figure()\n",
        "ax = fig.add_axes([0,0,1,1])\n",
        "gender = ['Male', 'Female']\n",
        "values=[4372,5047]\n",
        "ax.bar(gender,values)\n",
        "plt.show()"
      ],
      "execution_count": null,
      "outputs": [
        {
          "output_type": "display_data",
          "data": {
            "image/png": "[encoded data removed]",
            "text/plain": [
              "<Figure size 432x288 with 1 Axes>"
            ]
          },
          "metadata": {
            "needs_background": "light"
          }
        }
      ]
    },
    {
      "cell_type": "code",
      "metadata": {
        "colab": {
          "base_uri": "https://localhost:8080/"
        },
        "id": "zeEuqi9h6M6t",
        "outputId": "98a40ca6-9e46-4158-f7c5-f72157de295c"
      },
      "source": [
        "values, counts = np.unique(ages_f, return_counts=True)\n",
        "print(counts)"
      ],
      "execution_count": null,
      "outputs": [
        {
          "output_type": "stream",
          "name": "stdout",
          "text": [
            "[1123  482  289  273  196  131  139  263  166  156   65  130   81  157\n",
            "  177  247  158  262   98  284  346  395  426  859  734 2197  615  918\n",
            "  570  724  350  664  143  409  880  483  293  325  266  526  132  266\n",
            "  157  100  440  153  170  153  148  381  138  232  241  353  268  236\n",
            "   97  271   82  293  161  125  103   50  259   77   94  100   56  147\n",
            "   33   98   63   32  148   58   28   69   23  133   22   40   18   24\n",
            "  155   35   10   34   33   82    2   13    5    9   17    9   11    2\n",
            "    1    5    5    1    3    4]\n"
          ]
        }
      ]
    },
    {
      "cell_type": "code",
      "metadata": {
        "id": "RJ7dszhT6OeN"
      },
      "source": [
        "val=values.tolist()\n",
        "cnt=counts.tolist()"
      ],
      "execution_count": null,
      "outputs": []
    },
    {
      "cell_type": "code",
      "metadata": {
        "colab": {
          "base_uri": "https://localhost:8080/"
        },
        "id": "JgLGUK076Qj1",
        "outputId": "70b4248b-b443-4f93-9efe-e7d67f0028b9"
      },
      "source": [
        "plt.plot(counts)\n",
        "plt.xlabel('ages')\n",
        "plt.ylabel('distribution')\n",
        "plt.show()"
      ],
      "execution_count": null,
      "outputs": [
        {
          "output_type": "display_data",
          "data": {
            "image/png": "[encoded data removed]",
            "text/plain": [
              "<Figure size 432x288 with 1 Axes>"
            ]
          },
          "metadata": {
            "needs_background": "light"
          }
        }
      ]
    },
    {
      "cell_type": "code",
      "metadata": {
        "id": "LJPEUjl66SIF"
      },
      "source": [
        "labels=[]\n",
        "\n",
        "i=0\n",
        "while i<len(ages):\n",
        "  label=[]\n",
        "  label.append([ages[i]])\n",
        "  label.append([genders[i]])\n",
        "  labels.append(label)\n",
        "  i+=1"
      ],
      "execution_count": null,
      "outputs": []
    },
    {
      "cell_type": "code",
      "metadata": {
        "colab": {
          "base_uri": "https://localhost:8080/"
        },
        "id": "CKqQ3ImA6UgV",
        "outputId": "2614208a-d9ce-4229-8a80-cad9c7e8d998"
      },
      "source": [
        "images_f_2=images_f/255\n",
        "labels_f=np.array(labels)\n",
        "images_f_2.shape"
      ],
      "execution_count": null,
      "outputs": [
        {
          "output_type": "execute_result",
          "data": {
            "text/plain": [
              "(23708, 48, 48, 3)"
            ]
          },
          "metadata": {},
          "execution_count": 17
        }
      ]
    },
    {
      "cell_type": "code",
      "metadata": {
        "id": "O1Q2PtH86V69"
      },
      "source": [
        "import tensorflow as tf\n",
        "from sklearn.model_selection import train_test_split"
      ],
      "execution_count": null,
      "outputs": []
    },
    {
      "cell_type": "code",
      "metadata": {
        "id": "XJhZcZu46Yj9"
      },
      "source": [
        "X_train, X_test, Y_train, Y_test= train_test_split(images_f_2, labels_f,test_size=0.25)"
      ],
      "execution_count": null,
      "outputs": []
    },
    {
      "cell_type": "code",
      "metadata": {
        "colab": {
          "base_uri": "https://localhost:8080/"
        },
        "id": "B1-wPVHBZJXc",
        "outputId": "05c550ec-cac9-41a2-a68b-53dc4a75160b"
      },
      "source": [
        "X_train.shape"
      ],
      "execution_count": null,
      "outputs": [
        {
          "output_type": "execute_result",
          "data": {
            "text/plain": [
              "(17781, 48, 48, 3)"
            ]
          },
          "metadata": {},
          "execution_count": 20
        }
      ]
    },
    {
      "cell_type": "code",
      "metadata": {
        "colab": {
          "base_uri": "https://localhost:8080/"
        },
        "id": "fzopJoeGZJje",
        "outputId": "0d8572db-8d38-4be0-b289-b963cdba61c1"
      },
      "source": [
        "X_test.shape"
      ],
      "execution_count": null,
      "outputs": [
        {
          "output_type": "execute_result",
          "data": {
            "text/plain": [
              "(5927, 48, 48, 3)"
            ]
          },
          "metadata": {},
          "execution_count": 21
        }
      ]
    },
    {
      "cell_type": "code",
      "metadata": {
        "colab": {
          "base_uri": "https://localhost:8080/"
        },
        "id": "tk3P8lPb6bmN",
        "outputId": "b2bef4e5-76f8-4fb5-9bd6-19f561cf08b3"
      },
      "source": [
        "Y_train[0:5]"
      ],
      "execution_count": null,
      "outputs": [
        {
          "output_type": "execute_result",
          "data": {
            "text/plain": [
              "array([[[60],\n",
              "        [ 0]],\n",
              "\n",
              "       [[85],\n",
              "        [ 0]],\n",
              "\n",
              "       [[32],\n",
              "        [ 1]],\n",
              "\n",
              "       [[42],\n",
              "        [ 0]],\n",
              "\n",
              "       [[ 5],\n",
              "        [ 0]]])"
            ]
          },
          "metadata": {},
          "execution_count": 22
        }
      ]
    },
    {
      "cell_type": "code",
      "metadata": {
        "id": "yW8n0N0Q6c6t"
      },
      "source": [
        "Y_train_2=[Y_train[:,1],Y_train[:,0]]\n",
        "Y_test_2=[Y_test[:,1],Y_test[:,0]]"
      ],
      "execution_count": null,
      "outputs": []
    },
    {
      "cell_type": "code",
      "metadata": {
        "colab": {
          "base_uri": "https://localhost:8080/"
        },
        "id": "ziIBlHX36eqV",
        "outputId": "558bf491-2c0b-48ea-b039-2daf845206c3"
      },
      "source": [
        "Y_train_2[0][0:5]"
      ],
      "execution_count": null,
      "outputs": [
        {
          "output_type": "execute_result",
          "data": {
            "text/plain": [
              "array([[0],\n",
              "       [0],\n",
              "       [1],\n",
              "       [0],\n",
              "       [0]])"
            ]
          },
          "metadata": {},
          "execution_count": 24
        }
      ]
    },
    {
      "cell_type": "code",
      "metadata": {
        "colab": {
          "base_uri": "https://localhost:8080/"
        },
        "id": "4MUlPOqi6f6d",
        "outputId": "60ec16ee-e1ee-4112-9f99-a76004937b61"
      },
      "source": [
        "Y_train_2[1][0:5]"
      ],
      "execution_count": null,
      "outputs": [
        {
          "output_type": "execute_result",
          "data": {
            "text/plain": [
              "array([[60],\n",
              "       [85],\n",
              "       [32],\n",
              "       [42],\n",
              "       [ 5]])"
            ]
          },
          "metadata": {},
          "execution_count": 25
        }
      ]
    },
    {
      "cell_type": "markdown",
      "metadata": {
        "id": "uAb7hkoV6jQ4"
      },
      "source": [
        "Model"
      ]
    },
    {
      "cell_type": "code",
      "metadata": {
        "id": "l9LSV73f6k2U"
      },
      "source": [
        "from tensorflow.keras.layers import Dropout\n",
        "from tensorflow.keras.layers import Flatten,BatchNormalization\n",
        "from tensorflow.keras.layers import Dense, MaxPooling2D,Conv2D\n",
        "from tensorflow.keras.layers import Input,Activation,Add\n",
        "from tensorflow.keras.models import Model\n",
        "from tensorflow.keras.regularizers import l2\n",
        "from tensorflow.keras.optimizers import Adam\n",
        "import tensorflow as tf\n",
        "\n",
        "def Convolution(input_tensor,filters):\n",
        "    \n",
        "    x = Conv2D(filters=filters,kernel_size=(3, 3),padding = 'same',strides=(1, 1),kernel_regularizer=l2(0.001))(input_tensor)\n",
        "    x = Dropout(0.1)(x)\n",
        "    x= Activation('relu')(x)\n",
        "\n",
        "    return x\n",
        "def model(input_shape):\n",
        "  inputs = Input((input_shape))\n",
        "  \n",
        "  conv_1= Convolution(inputs,32)\n",
        "  maxp_1 = MaxPooling2D(pool_size = (2,2)) (conv_1)\n",
        "  conv_2 = Convolution(maxp_1,64)\n",
        "  maxp_2 = MaxPooling2D(pool_size = (2, 2)) (conv_2)\n",
        "  conv_3 = Convolution(maxp_2,128)\n",
        "  maxp_3 = MaxPooling2D(pool_size = (2, 2)) (conv_3)\n",
        "  conv_4 = Convolution(maxp_3,256)\n",
        "  maxp_4 = MaxPooling2D(pool_size = (2, 2)) (conv_4)\n",
        "  flatten= Flatten() (maxp_4)\n",
        "  dense_1= Dense(64,activation='relu')(flatten)\n",
        "  dense_2= Dense(64,activation='relu')(flatten)\n",
        "  drop_1=Dropout(0.2)(dense_1)\n",
        "  drop_2=Dropout(0.2)(dense_2)\n",
        "  output_1= Dense(1,activation=\"sigmoid\",name='sex_out')(drop_1)\n",
        "  output_2= Dense(1,activation=\"relu\",name='age_out')(drop_2)\n",
        "  model = Model(inputs=[inputs], outputs=[output_1,output_2])\n",
        "  model.compile(loss=[\"binary_crossentropy\",\"mae\"], optimizer=\"Adam\",\n",
        "\tmetrics=[\"accuracy\"])\n",
        "  \n",
        "  return model"
      ],
      "execution_count": null,
      "outputs": []
    },
    {
      "cell_type": "code",
      "metadata": {
        "id": "N6_ZRXKd6xKW"
      },
      "source": [
        "Model=model((48,48,3))"
      ],
      "execution_count": null,
      "outputs": []
    },
    {
      "cell_type": "code",
      "metadata": {
        "colab": {
          "base_uri": "https://localhost:8080/"
        },
        "id": "lOCYDRO96xX0",
        "outputId": "d9605050-5730-4cfc-e839-efb08c6ca84a"
      },
      "source": [
        "Model.summary()"
      ],
      "execution_count": null,
      "outputs": [
        {
          "output_type": "stream",
          "name": "stdout",
          "text": [
            "Model: \"model\"\n",
            "__________________________________________________________________________________________________\n",
            " Layer (type)                   Output Shape         Param #     Connected to                     \n",
            "==================================================================================================\n",
            " input_1 (InputLayer)           [(None, 48, 48, 3)]  0           []                               \n",
            "                                                                                                  \n",
            " conv2d (Conv2D)                (None, 48, 48, 32)   896         ['input_1[0][0]']                \n",
            "                                                                                                  \n",
            " dropout (Dropout)              (None, 48, 48, 32)   0           ['conv2d[0][0]']                 \n",
            "                                                                                                  \n",
            " activation (Activation)        (None, 48, 48, 32)   0           ['dropout[0][0]']                \n",
            "                                                                                                  \n",
            " max_pooling2d (MaxPooling2D)   (None, 24, 24, 32)   0           ['activation[0][0]']             \n",
            "                                                                                                  \n",
            " conv2d_1 (Conv2D)              (None, 24, 24, 64)   18496       ['max_pooling2d[0][0]']          \n",
            "                                                                                                  \n",
            " dropout_1 (Dropout)            (None, 24, 24, 64)   0           ['conv2d_1[0][0]']               \n",
            "                                                                                                  \n",
            " activation_1 (Activation)      (None, 24, 24, 64)   0           ['dropout_1[0][0]']              \n",
            "                                                                                                  \n",
            " max_pooling2d_1 (MaxPooling2D)  (None, 12, 12, 64)  0           ['activation_1[0][0]']           \n",
            "                                                                                                  \n",
            " conv2d_2 (Conv2D)              (None, 12, 12, 128)  73856       ['max_pooling2d_1[0][0]']        \n",
            "                                                                                                  \n",
            " dropout_2 (Dropout)            (None, 12, 12, 128)  0           ['conv2d_2[0][0]']               \n",
            "                                                                                                  \n",
            " activation_2 (Activation)      (None, 12, 12, 128)  0           ['dropout_2[0][0]']              \n",
            "                                                                                                  \n",
            " max_pooling2d_2 (MaxPooling2D)  (None, 6, 6, 128)   0           ['activation_2[0][0]']           \n",
            "                                                                                                  \n",
            " conv2d_3 (Conv2D)              (None, 6, 6, 256)    295168      ['max_pooling2d_2[0][0]']        \n",
            "                                                                                                  \n",
            " dropout_3 (Dropout)            (None, 6, 6, 256)    0           ['conv2d_3[0][0]']               \n",
            "                                                                                                  \n",
            " activation_3 (Activation)      (None, 6, 6, 256)    0           ['dropout_3[0][0]']              \n",
            "                                                                                                  \n",
            " max_pooling2d_3 (MaxPooling2D)  (None, 3, 3, 256)   0           ['activation_3[0][0]']           \n",
            "                                                                                                  \n",
            " flatten (Flatten)              (None, 2304)         0           ['max_pooling2d_3[0][0]']        \n",
            "                                                                                                  \n",
            " dense (Dense)                  (None, 64)           147520      ['flatten[0][0]']                \n",
            "                                                                                                  \n",
            " dense_1 (Dense)                (None, 64)           147520      ['flatten[0][0]']                \n",
            "                                                                                                  \n",
            " dropout_4 (Dropout)            (None, 64)           0           ['dense[0][0]']                  \n",
            "                                                                                                  \n",
            " dropout_5 (Dropout)            (None, 64)           0           ['dense_1[0][0]']                \n",
            "                                                                                                  \n",
            " sex_out (Dense)                (None, 1)            65          ['dropout_4[0][0]']              \n",
            "                                                                                                  \n",
            " age_out (Dense)                (None, 1)            65          ['dropout_5[0][0]']              \n",
            "                                                                                                  \n",
            "==================================================================================================\n",
            "Total params: 683,586\n",
            "Trainable params: 683,586\n",
            "Non-trainable params: 0\n",
            "__________________________________________________________________________________________________\n"
          ]
        }
      ]
    },
    {
      "cell_type": "markdown",
      "metadata": {
        "id": "f7nmS56w62Wg"
      },
      "source": [
        "Training"
      ]
    },
    {
      "cell_type": "code",
      "metadata": {
        "id": "0CQ8ciOw6zk0"
      },
      "source": [
        "from tensorflow.keras.callbacks import ModelCheckpoint\n",
        "import tensorflow as tf"
      ],
      "execution_count": null,
      "outputs": []
    },
    {
      "cell_type": "code",
      "metadata": {
        "colab": {
          "base_uri": "https://localhost:8080/"
        },
        "id": "DtsK-gd764_s",
        "outputId": "f3f6c3ac-edb8-4d43-8996-a5199180fdc2"
      },
      "source": [
        "save = Model.fit(X_train,Y_train_2,batch_size=64,validation_data=(X_test,Y_test_2),epochs=100)\n",
        "Model.save('/content/drive/MyDrive/Đại số máy tính/Đồ án Xử lý ảnh/Dataset/UTK Face/Age_sex_detection.h5')"
      ],
      "execution_count": null,
      "outputs": [
        {
          "output_type": "stream",
          "name": "stdout",
          "text": [
            "Epoch 1/100\n",
            "278/278 [==============================] - 40s 33ms/step - loss: 16.7797 - sex_out_loss: 0.7201 - age_out_loss: 15.8801 - sex_out_accuracy: 0.5562 - age_out_accuracy: 0.0485 - val_loss: 17.7239 - val_sex_out_loss: 0.6615 - val_age_out_loss: 16.8986 - val_sex_out_accuracy: 0.6386 - val_age_out_accuracy: 0.0429\n",
            "Epoch 2/100\n",
            "278/278 [==============================] - 8s 28ms/step - loss: 13.9616 - sex_out_loss: 0.6224 - age_out_loss: 13.1461 - sex_out_accuracy: 0.6488 - age_out_accuracy: 0.0489 - val_loss: 13.9548 - val_sex_out_loss: 0.5674 - val_age_out_loss: 13.1553 - val_sex_out_accuracy: 0.7381 - val_age_out_accuracy: 0.0427\n",
            "Epoch 3/100\n",
            "278/278 [==============================] - 8s 28ms/step - loss: 11.3469 - sex_out_loss: 0.5589 - age_out_loss: 10.5269 - sex_out_accuracy: 0.7145 - age_out_accuracy: 0.0423 - val_loss: 11.6348 - val_sex_out_loss: 0.5226 - val_age_out_loss: 10.8272 - val_sex_out_accuracy: 0.7528 - val_age_out_accuracy: 0.0429\n",
            "Epoch 4/100\n",
            "278/278 [==============================] - 8s 28ms/step - loss: 10.2754 - sex_out_loss: 0.5121 - age_out_loss: 9.4614 - sex_out_accuracy: 0.7478 - age_out_accuracy: 0.0425 - val_loss: 13.3070 - val_sex_out_loss: 0.4643 - val_age_out_loss: 12.5263 - val_sex_out_accuracy: 0.7942 - val_age_out_accuracy: 0.0381\n",
            "Epoch 5/100\n",
            "278/278 [==============================] - 8s 28ms/step - loss: 9.8556 - sex_out_loss: 0.4720 - age_out_loss: 9.0535 - sex_out_accuracy: 0.7726 - age_out_accuracy: 0.0441 - val_loss: 11.5792 - val_sex_out_loss: 0.4253 - val_age_out_loss: 10.8117 - val_sex_out_accuracy: 0.8012 - val_age_out_accuracy: 0.0412\n",
            "Epoch 6/100\n",
            "278/278 [==============================] - 8s 28ms/step - loss: 9.5123 - sex_out_loss: 0.4485 - age_out_loss: 8.7104 - sex_out_accuracy: 0.7874 - age_out_accuracy: 0.0438 - val_loss: 11.3683 - val_sex_out_loss: 0.4351 - val_age_out_loss: 10.5699 - val_sex_out_accuracy: 0.8119 - val_age_out_accuracy: 0.0429\n",
            "Epoch 7/100\n",
            "278/278 [==============================] - 8s 28ms/step - loss: 9.1494 - sex_out_loss: 0.4256 - age_out_loss: 8.3511 - sex_out_accuracy: 0.8011 - age_out_accuracy: 0.0462 - val_loss: 11.7990 - val_sex_out_loss: 0.3842 - val_age_out_loss: 11.0339 - val_sex_out_accuracy: 0.8266 - val_age_out_accuracy: 0.0427\n",
            "Epoch 8/100\n",
            "278/278 [==============================] - 8s 28ms/step - loss: 8.8168 - sex_out_loss: 0.4143 - age_out_loss: 8.0147 - sex_out_accuracy: 0.8078 - age_out_accuracy: 0.0457 - val_loss: 9.3449 - val_sex_out_loss: 0.3735 - val_age_out_loss: 8.5754 - val_sex_out_accuracy: 0.8274 - val_age_out_accuracy: 0.0429\n",
            "Epoch 9/100\n",
            "278/278 [==============================] - 8s 28ms/step - loss: 8.5737 - sex_out_loss: 0.3974 - age_out_loss: 7.7748 - sex_out_accuracy: 0.8178 - age_out_accuracy: 0.0471 - val_loss: 11.2413 - val_sex_out_loss: 0.3522 - val_age_out_loss: 10.4816 - val_sex_out_accuracy: 0.8395 - val_age_out_accuracy: 0.0403\n",
            "Epoch 10/100\n",
            "278/278 [==============================] - 8s 28ms/step - loss: 8.4205 - sex_out_loss: 0.3848 - age_out_loss: 7.6219 - sex_out_accuracy: 0.8259 - age_out_accuracy: 0.0475 - val_loss: 10.5247 - val_sex_out_loss: 0.3791 - val_age_out_loss: 9.7248 - val_sex_out_accuracy: 0.8347 - val_age_out_accuracy: 0.0429\n",
            "Epoch 11/100\n",
            "278/278 [==============================] - 8s 28ms/step - loss: 8.2498 - sex_out_loss: 0.3610 - age_out_loss: 7.4587 - sex_out_accuracy: 0.8411 - age_out_accuracy: 0.0489 - val_loss: 11.6419 - val_sex_out_loss: 0.3400 - val_age_out_loss: 10.8638 - val_sex_out_accuracy: 0.8551 - val_age_out_accuracy: 0.0429\n",
            "Epoch 12/100\n",
            "278/278 [==============================] - 8s 28ms/step - loss: 8.3609 - sex_out_loss: 0.3555 - age_out_loss: 7.5603 - sex_out_accuracy: 0.8451 - age_out_accuracy: 0.0489 - val_loss: 9.8723 - val_sex_out_loss: 0.3317 - val_age_out_loss: 9.0892 - val_sex_out_accuracy: 0.8622 - val_age_out_accuracy: 0.0429\n",
            "Epoch 13/100\n",
            "278/278 [==============================] - 8s 28ms/step - loss: 7.9844 - sex_out_loss: 0.3427 - age_out_loss: 7.1834 - sex_out_accuracy: 0.8512 - age_out_accuracy: 0.0489 - val_loss: 9.6649 - val_sex_out_loss: 0.3179 - val_age_out_loss: 8.8830 - val_sex_out_accuracy: 0.8643 - val_age_out_accuracy: 0.0429\n",
            "Epoch 14/100\n",
            "278/278 [==============================] - 8s 28ms/step - loss: 7.9017 - sex_out_loss: 0.3312 - age_out_loss: 7.1005 - sex_out_accuracy: 0.8583 - age_out_accuracy: 0.0489 - val_loss: 10.4981 - val_sex_out_loss: 0.3103 - val_age_out_loss: 9.7125 - val_sex_out_accuracy: 0.8659 - val_age_out_accuracy: 0.0429\n",
            "Epoch 15/100\n",
            "278/278 [==============================] - 8s 28ms/step - loss: 7.8863 - sex_out_loss: 0.3254 - age_out_loss: 7.0781 - sex_out_accuracy: 0.8600 - age_out_accuracy: 0.0489 - val_loss: 9.3067 - val_sex_out_loss: 0.3114 - val_age_out_loss: 8.5057 - val_sex_out_accuracy: 0.8676 - val_age_out_accuracy: 0.0429\n",
            "Epoch 16/100\n",
            "278/278 [==============================] - 8s 28ms/step - loss: 7.7562 - sex_out_loss: 0.3174 - age_out_loss: 6.9417 - sex_out_accuracy: 0.8628 - age_out_accuracy: 0.0489 - val_loss: 9.4092 - val_sex_out_loss: 0.2985 - val_age_out_loss: 8.6075 - val_sex_out_accuracy: 0.8674 - val_age_out_accuracy: 0.0429\n",
            "Epoch 17/100\n",
            "278/278 [==============================] - 8s 28ms/step - loss: 7.7430 - sex_out_loss: 0.3165 - age_out_loss: 6.9175 - sex_out_accuracy: 0.8625 - age_out_accuracy: 0.0489 - val_loss: 10.6740 - val_sex_out_loss: 0.2887 - val_age_out_loss: 9.8711 - val_sex_out_accuracy: 0.8758 - val_age_out_accuracy: 0.0429\n",
            "Epoch 18/100\n",
            "278/278 [==============================] - 8s 28ms/step - loss: 7.4751 - sex_out_loss: 0.3006 - age_out_loss: 6.6537 - sex_out_accuracy: 0.8714 - age_out_accuracy: 0.0489 - val_loss: 10.5265 - val_sex_out_loss: 0.2901 - val_age_out_loss: 9.7096 - val_sex_out_accuracy: 0.8802 - val_age_out_accuracy: 0.0429\n",
            "Epoch 19/100\n",
            "278/278 [==============================] - 8s 28ms/step - loss: 7.4622 - sex_out_loss: 0.2955 - age_out_loss: 6.6332 - sex_out_accuracy: 0.8745 - age_out_accuracy: 0.0489 - val_loss: 9.6618 - val_sex_out_loss: 0.2964 - val_age_out_loss: 8.8262 - val_sex_out_accuracy: 0.8660 - val_age_out_accuracy: 0.0429\n",
            "Epoch 20/100\n",
            "278/278 [==============================] - 8s 28ms/step - loss: 7.4035 - sex_out_loss: 0.2933 - age_out_loss: 6.5656 - sex_out_accuracy: 0.8749 - age_out_accuracy: 0.0489 - val_loss: 9.3017 - val_sex_out_loss: 0.2782 - val_age_out_loss: 8.4731 - val_sex_out_accuracy: 0.8816 - val_age_out_accuracy: 0.0429\n",
            "Epoch 21/100\n",
            "278/278 [==============================] - 8s 28ms/step - loss: 7.3183 - sex_out_loss: 0.2902 - age_out_loss: 6.4710 - sex_out_accuracy: 0.8799 - age_out_accuracy: 0.0489 - val_loss: 9.7650 - val_sex_out_loss: 0.2766 - val_age_out_loss: 8.9262 - val_sex_out_accuracy: 0.8802 - val_age_out_accuracy: 0.0429\n",
            "Epoch 22/100\n",
            "278/278 [==============================] - 8s 28ms/step - loss: 7.3461 - sex_out_loss: 0.2828 - age_out_loss: 6.4954 - sex_out_accuracy: 0.8790 - age_out_accuracy: 0.0489 - val_loss: 9.7060 - val_sex_out_loss: 0.2665 - val_age_out_loss: 8.8653 - val_sex_out_accuracy: 0.8839 - val_age_out_accuracy: 0.0429\n",
            "Epoch 23/100\n",
            "278/278 [==============================] - 8s 28ms/step - loss: 7.1901 - sex_out_loss: 0.2806 - age_out_loss: 6.3291 - sex_out_accuracy: 0.8829 - age_out_accuracy: 0.0489 - val_loss: 9.8834 - val_sex_out_loss: 0.2747 - val_age_out_loss: 9.0233 - val_sex_out_accuracy: 0.8760 - val_age_out_accuracy: 0.0429\n",
            "Epoch 24/100\n",
            "278/278 [==============================] - 8s 28ms/step - loss: 7.1279 - sex_out_loss: 0.2761 - age_out_loss: 6.2598 - sex_out_accuracy: 0.8829 - age_out_accuracy: 0.0489 - val_loss: 9.0682 - val_sex_out_loss: 0.2637 - val_age_out_loss: 8.2069 - val_sex_out_accuracy: 0.8859 - val_age_out_accuracy: 0.0429\n",
            "Epoch 25/100\n",
            "278/278 [==============================] - 8s 28ms/step - loss: 7.1106 - sex_out_loss: 0.2724 - age_out_loss: 6.2323 - sex_out_accuracy: 0.8862 - age_out_accuracy: 0.0489 - val_loss: 9.3717 - val_sex_out_loss: 0.2646 - val_age_out_loss: 8.4954 - val_sex_out_accuracy: 0.8902 - val_age_out_accuracy: 0.0429\n",
            "Epoch 26/100\n",
            "278/278 [==============================] - 8s 28ms/step - loss: 7.0435 - sex_out_loss: 0.2682 - age_out_loss: 6.1572 - sex_out_accuracy: 0.8878 - age_out_accuracy: 0.0489 - val_loss: 9.5350 - val_sex_out_loss: 0.2699 - val_age_out_loss: 8.6416 - val_sex_out_accuracy: 0.8854 - val_age_out_accuracy: 0.0429\n",
            "Epoch 27/100\n",
            "278/278 [==============================] - 8s 28ms/step - loss: 6.9909 - sex_out_loss: 0.2683 - age_out_loss: 6.0934 - sex_out_accuracy: 0.8879 - age_out_accuracy: 0.0489 - val_loss: 8.5379 - val_sex_out_loss: 0.2601 - val_age_out_loss: 7.6419 - val_sex_out_accuracy: 0.8832 - val_age_out_accuracy: 0.0429\n",
            "Epoch 28/100\n",
            "278/278 [==============================] - 8s 28ms/step - loss: 6.8976 - sex_out_loss: 0.2676 - age_out_loss: 5.9884 - sex_out_accuracy: 0.8874 - age_out_accuracy: 0.0489 - val_loss: 8.7983 - val_sex_out_loss: 0.2664 - val_age_out_loss: 7.8854 - val_sex_out_accuracy: 0.8851 - val_age_out_accuracy: 0.0429\n",
            "Epoch 29/100\n",
            "278/278 [==============================] - 8s 28ms/step - loss: 6.9378 - sex_out_loss: 0.2623 - age_out_loss: 6.0234 - sex_out_accuracy: 0.8919 - age_out_accuracy: 0.0489 - val_loss: 9.3220 - val_sex_out_loss: 0.2671 - val_age_out_loss: 8.3980 - val_sex_out_accuracy: 0.8773 - val_age_out_accuracy: 0.0429\n",
            "Epoch 30/100\n",
            "278/278 [==============================] - 8s 28ms/step - loss: 6.8421 - sex_out_loss: 0.2569 - age_out_loss: 5.9226 - sex_out_accuracy: 0.8913 - age_out_accuracy: 0.0489 - val_loss: 8.9615 - val_sex_out_loss: 0.2607 - val_age_out_loss: 8.0332 - val_sex_out_accuracy: 0.8822 - val_age_out_accuracy: 0.0429\n",
            "Epoch 31/100\n",
            "278/278 [==============================] - 8s 28ms/step - loss: 6.8447 - sex_out_loss: 0.2560 - age_out_loss: 5.9157 - sex_out_accuracy: 0.8936 - age_out_accuracy: 0.0489 - val_loss: 9.1654 - val_sex_out_loss: 0.2628 - val_age_out_loss: 8.2234 - val_sex_out_accuracy: 0.8777 - val_age_out_accuracy: 0.0429\n",
            "Epoch 32/100\n",
            "278/278 [==============================] - 8s 28ms/step - loss: 6.7246 - sex_out_loss: 0.2486 - age_out_loss: 5.7927 - sex_out_accuracy: 0.8951 - age_out_accuracy: 0.0489 - val_loss: 9.1445 - val_sex_out_loss: 0.2600 - val_age_out_loss: 8.1954 - val_sex_out_accuracy: 0.8811 - val_age_out_accuracy: 0.0429\n",
            "Epoch 33/100\n",
            "278/278 [==============================] - 8s 28ms/step - loss: 6.6899 - sex_out_loss: 0.2514 - age_out_loss: 5.7454 - sex_out_accuracy: 0.8933 - age_out_accuracy: 0.0489 - val_loss: 9.7409 - val_sex_out_loss: 0.2538 - val_age_out_loss: 8.7889 - val_sex_out_accuracy: 0.8871 - val_age_out_accuracy: 0.0429\n",
            "Epoch 34/100\n",
            "278/278 [==============================] - 8s 28ms/step - loss: 6.6611 - sex_out_loss: 0.2561 - age_out_loss: 5.7011 - sex_out_accuracy: 0.8932 - age_out_accuracy: 0.0489 - val_loss: 8.7853 - val_sex_out_loss: 0.2710 - val_age_out_loss: 7.8059 - val_sex_out_accuracy: 0.8875 - val_age_out_accuracy: 0.0429\n",
            "Epoch 35/100\n",
            "278/278 [==============================] - 8s 28ms/step - loss: 6.7488 - sex_out_loss: 0.2469 - age_out_loss: 5.7896 - sex_out_accuracy: 0.8962 - age_out_accuracy: 0.0489 - val_loss: 7.8856 - val_sex_out_loss: 0.2513 - val_age_out_loss: 6.9179 - val_sex_out_accuracy: 0.8910 - val_age_out_accuracy: 0.0429\n",
            "Epoch 36/100\n",
            "278/278 [==============================] - 8s 28ms/step - loss: 6.5861 - sex_out_loss: 0.2420 - age_out_loss: 5.6246 - sex_out_accuracy: 0.8966 - age_out_accuracy: 0.0489 - val_loss: 9.3665 - val_sex_out_loss: 0.2516 - val_age_out_loss: 8.3920 - val_sex_out_accuracy: 0.8886 - val_age_out_accuracy: 0.0429\n",
            "Epoch 37/100\n",
            "278/278 [==============================] - 8s 28ms/step - loss: 6.5926 - sex_out_loss: 0.2366 - age_out_loss: 5.6277 - sex_out_accuracy: 0.9002 - age_out_accuracy: 0.0489 - val_loss: 8.7286 - val_sex_out_loss: 0.2553 - val_age_out_loss: 7.7413 - val_sex_out_accuracy: 0.8843 - val_age_out_accuracy: 0.0429\n",
            "Epoch 38/100\n",
            "278/278 [==============================] - 8s 28ms/step - loss: 6.5834 - sex_out_loss: 0.2338 - age_out_loss: 5.6126 - sex_out_accuracy: 0.9026 - age_out_accuracy: 0.0488 - val_loss: 9.2243 - val_sex_out_loss: 0.2506 - val_age_out_loss: 8.2320 - val_sex_out_accuracy: 0.8858 - val_age_out_accuracy: 0.0429\n",
            "Epoch 39/100\n",
            "278/278 [==============================] - 8s 28ms/step - loss: 6.5500 - sex_out_loss: 0.2332 - age_out_loss: 5.5695 - sex_out_accuracy: 0.8992 - age_out_accuracy: 0.0488 - val_loss: 8.2370 - val_sex_out_loss: 0.2531 - val_age_out_loss: 7.2316 - val_sex_out_accuracy: 0.8929 - val_age_out_accuracy: 0.0429\n",
            "Epoch 40/100\n",
            "278/278 [==============================] - 8s 28ms/step - loss: 6.5094 - sex_out_loss: 0.2295 - age_out_loss: 5.5230 - sex_out_accuracy: 0.9037 - age_out_accuracy: 0.0488 - val_loss: 8.5981 - val_sex_out_loss: 0.2480 - val_age_out_loss: 7.5893 - val_sex_out_accuracy: 0.8920 - val_age_out_accuracy: 0.0429\n",
            "Epoch 41/100\n",
            "278/278 [==============================] - 8s 28ms/step - loss: 6.5002 - sex_out_loss: 0.2271 - age_out_loss: 5.5081 - sex_out_accuracy: 0.9051 - age_out_accuracy: 0.0488 - val_loss: 8.8752 - val_sex_out_loss: 0.2461 - val_age_out_loss: 7.8602 - val_sex_out_accuracy: 0.8917 - val_age_out_accuracy: 0.0429\n",
            "Epoch 42/100\n",
            "278/278 [==============================] - 8s 28ms/step - loss: 6.4576 - sex_out_loss: 0.2281 - age_out_loss: 5.4562 - sex_out_accuracy: 0.9033 - age_out_accuracy: 0.0487 - val_loss: 7.4263 - val_sex_out_loss: 0.2504 - val_age_out_loss: 6.3978 - val_sex_out_accuracy: 0.8895 - val_age_out_accuracy: 0.0429\n",
            "Epoch 43/100\n",
            "278/278 [==============================] - 8s 28ms/step - loss: 6.4554 - sex_out_loss: 0.2255 - age_out_loss: 5.4476 - sex_out_accuracy: 0.9039 - age_out_accuracy: 0.0486 - val_loss: 9.4632 - val_sex_out_loss: 0.2524 - val_age_out_loss: 8.4243 - val_sex_out_accuracy: 0.8844 - val_age_out_accuracy: 0.0429\n",
            "Epoch 44/100\n",
            "278/278 [==============================] - 9s 31ms/step - loss: 6.4479 - sex_out_loss: 0.2261 - age_out_loss: 5.4318 - sex_out_accuracy: 0.9039 - age_out_accuracy: 0.0488 - val_loss: 8.5787 - val_sex_out_loss: 0.2475 - val_age_out_loss: 7.5385 - val_sex_out_accuracy: 0.8929 - val_age_out_accuracy: 0.0429\n",
            "Epoch 45/100\n",
            "278/278 [==============================] - 8s 28ms/step - loss: 6.3815 - sex_out_loss: 0.2186 - age_out_loss: 5.3666 - sex_out_accuracy: 0.9071 - age_out_accuracy: 0.0486 - val_loss: 9.8474 - val_sex_out_loss: 0.2462 - val_age_out_loss: 8.8013 - val_sex_out_accuracy: 0.8913 - val_age_out_accuracy: 0.0429\n",
            "Epoch 46/100\n",
            "278/278 [==============================] - 8s 28ms/step - loss: 6.3443 - sex_out_loss: 0.2196 - age_out_loss: 5.3213 - sex_out_accuracy: 0.9074 - age_out_accuracy: 0.0487 - val_loss: 7.9904 - val_sex_out_loss: 0.2448 - val_age_out_loss: 6.9386 - val_sex_out_accuracy: 0.8946 - val_age_out_accuracy: 0.0429\n",
            "Epoch 47/100\n",
            "278/278 [==============================] - 8s 28ms/step - loss: 6.3833 - sex_out_loss: 0.2210 - age_out_loss: 5.3514 - sex_out_accuracy: 0.9071 - age_out_accuracy: 0.0484 - val_loss: 7.6384 - val_sex_out_loss: 0.2766 - val_age_out_loss: 6.5471 - val_sex_out_accuracy: 0.8708 - val_age_out_accuracy: 0.0429\n",
            "Epoch 48/100\n",
            "278/278 [==============================] - 8s 29ms/step - loss: 6.3233 - sex_out_loss: 0.2144 - age_out_loss: 5.2911 - sex_out_accuracy: 0.9081 - age_out_accuracy: 0.0484 - val_loss: 8.2752 - val_sex_out_loss: 0.2534 - val_age_out_loss: 7.2021 - val_sex_out_accuracy: 0.8892 - val_age_out_accuracy: 0.0429\n",
            "Epoch 49/100\n",
            "278/278 [==============================] - 8s 29ms/step - loss: 6.3040 - sex_out_loss: 0.2219 - age_out_loss: 5.2593 - sex_out_accuracy: 0.9067 - age_out_accuracy: 0.0487 - val_loss: 7.7821 - val_sex_out_loss: 0.2569 - val_age_out_loss: 6.6995 - val_sex_out_accuracy: 0.8807 - val_age_out_accuracy: 0.0429\n",
            "Epoch 50/100\n",
            "278/278 [==============================] - 8s 28ms/step - loss: 6.3254 - sex_out_loss: 0.2159 - age_out_loss: 5.2813 - sex_out_accuracy: 0.9089 - age_out_accuracy: 0.0481 - val_loss: 9.4804 - val_sex_out_loss: 0.2559 - val_age_out_loss: 8.3935 - val_sex_out_accuracy: 0.8883 - val_age_out_accuracy: 0.0429\n",
            "Epoch 51/100\n",
            "278/278 [==============================] - 8s 29ms/step - loss: 6.2894 - sex_out_loss: 0.2194 - age_out_loss: 5.2358 - sex_out_accuracy: 0.9084 - age_out_accuracy: 0.0482 - val_loss: 8.4618 - val_sex_out_loss: 0.2420 - val_age_out_loss: 7.3818 - val_sex_out_accuracy: 0.8925 - val_age_out_accuracy: 0.0429\n",
            "Epoch 52/100\n",
            "278/278 [==============================] - 8s 28ms/step - loss: 6.2109 - sex_out_loss: 0.2139 - age_out_loss: 5.1571 - sex_out_accuracy: 0.9078 - age_out_accuracy: 0.0482 - val_loss: 9.7672 - val_sex_out_loss: 0.2526 - val_age_out_loss: 8.6706 - val_sex_out_accuracy: 0.8890 - val_age_out_accuracy: 0.0429\n",
            "Epoch 53/100\n",
            "278/278 [==============================] - 8s 29ms/step - loss: 6.2592 - sex_out_loss: 0.2174 - age_out_loss: 5.1944 - sex_out_accuracy: 0.9089 - age_out_accuracy: 0.0480 - val_loss: 7.7183 - val_sex_out_loss: 0.2537 - val_age_out_loss: 6.6144 - val_sex_out_accuracy: 0.8854 - val_age_out_accuracy: 0.0429\n",
            "Epoch 54/100\n",
            "278/278 [==============================] - 8s 28ms/step - loss: 6.2464 - sex_out_loss: 0.2078 - age_out_loss: 5.1861 - sex_out_accuracy: 0.9128 - age_out_accuracy: 0.0474 - val_loss: 8.5331 - val_sex_out_loss: 0.2525 - val_age_out_loss: 7.4257 - val_sex_out_accuracy: 0.8912 - val_age_out_accuracy: 0.0429\n",
            "Epoch 55/100\n",
            "278/278 [==============================] - 8s 28ms/step - loss: 6.2101 - sex_out_loss: 0.2082 - age_out_loss: 5.1442 - sex_out_accuracy: 0.9117 - age_out_accuracy: 0.0480 - val_loss: 8.4344 - val_sex_out_loss: 0.2571 - val_age_out_loss: 7.3169 - val_sex_out_accuracy: 0.8817 - val_age_out_accuracy: 0.0429\n",
            "Epoch 56/100\n",
            "278/278 [==============================] - 8s 28ms/step - loss: 6.2145 - sex_out_loss: 0.2092 - age_out_loss: 5.1418 - sex_out_accuracy: 0.9113 - age_out_accuracy: 0.0482 - val_loss: 8.2513 - val_sex_out_loss: 0.2533 - val_age_out_loss: 7.1306 - val_sex_out_accuracy: 0.8871 - val_age_out_accuracy: 0.0429\n",
            "Epoch 57/100\n",
            "278/278 [==============================] - 8s 29ms/step - loss: 6.1937 - sex_out_loss: 0.2053 - age_out_loss: 5.1192 - sex_out_accuracy: 0.9144 - age_out_accuracy: 0.0481 - val_loss: 9.5915 - val_sex_out_loss: 0.2579 - val_age_out_loss: 8.4617 - val_sex_out_accuracy: 0.8870 - val_age_out_accuracy: 0.0429\n",
            "Epoch 58/100\n",
            "278/278 [==============================] - 8s 29ms/step - loss: 6.2235 - sex_out_loss: 0.2055 - age_out_loss: 5.1424 - sex_out_accuracy: 0.9120 - age_out_accuracy: 0.0484 - val_loss: 7.7435 - val_sex_out_loss: 0.2507 - val_age_out_loss: 6.6154 - val_sex_out_accuracy: 0.8900 - val_age_out_accuracy: 0.0429\n",
            "Epoch 59/100\n",
            "278/278 [==============================] - 8s 29ms/step - loss: 6.1452 - sex_out_loss: 0.2027 - age_out_loss: 5.0622 - sex_out_accuracy: 0.9129 - age_out_accuracy: 0.0482 - val_loss: 8.1003 - val_sex_out_loss: 0.2619 - val_age_out_loss: 6.9551 - val_sex_out_accuracy: 0.8758 - val_age_out_accuracy: 0.0429\n",
            "Epoch 60/100\n",
            "278/278 [==============================] - 8s 29ms/step - loss: 6.1094 - sex_out_loss: 0.2061 - age_out_loss: 5.0178 - sex_out_accuracy: 0.9134 - age_out_accuracy: 0.0471 - val_loss: 8.1381 - val_sex_out_loss: 0.2497 - val_age_out_loss: 7.0008 - val_sex_out_accuracy: 0.8925 - val_age_out_accuracy: 0.0429\n",
            "Epoch 61/100\n",
            "278/278 [==============================] - 8s 28ms/step - loss: 6.1030 - sex_out_loss: 0.2022 - age_out_loss: 5.0106 - sex_out_accuracy: 0.9158 - age_out_accuracy: 0.0478 - val_loss: 8.9525 - val_sex_out_loss: 0.2406 - val_age_out_loss: 7.8187 - val_sex_out_accuracy: 0.8956 - val_age_out_accuracy: 0.0429\n",
            "Epoch 62/100\n",
            "278/278 [==============================] - 8s 29ms/step - loss: 6.1748 - sex_out_loss: 0.2059 - age_out_loss: 5.0732 - sex_out_accuracy: 0.9133 - age_out_accuracy: 0.0476 - val_loss: 8.1022 - val_sex_out_loss: 0.2529 - val_age_out_loss: 6.9518 - val_sex_out_accuracy: 0.8925 - val_age_out_accuracy: 0.0429\n",
            "Epoch 63/100\n",
            "278/278 [==============================] - 8s 28ms/step - loss: 6.1146 - sex_out_loss: 0.2068 - age_out_loss: 5.0091 - sex_out_accuracy: 0.9140 - age_out_accuracy: 0.0479 - val_loss: 8.3659 - val_sex_out_loss: 0.2521 - val_age_out_loss: 7.2135 - val_sex_out_accuracy: 0.8892 - val_age_out_accuracy: 0.0429\n",
            "Epoch 64/100\n",
            "278/278 [==============================] - 8s 28ms/step - loss: 6.0660 - sex_out_loss: 0.2014 - age_out_loss: 4.9612 - sex_out_accuracy: 0.9138 - age_out_accuracy: 0.0476 - val_loss: 7.8898 - val_sex_out_loss: 0.2540 - val_age_out_loss: 6.7289 - val_sex_out_accuracy: 0.8913 - val_age_out_accuracy: 0.0429\n",
            "Epoch 65/100\n",
            "278/278 [==============================] - 8s 29ms/step - loss: 6.0563 - sex_out_loss: 0.2048 - age_out_loss: 4.9436 - sex_out_accuracy: 0.9161 - age_out_accuracy: 0.0473 - val_loss: 8.0440 - val_sex_out_loss: 0.2528 - val_age_out_loss: 6.8803 - val_sex_out_accuracy: 0.8910 - val_age_out_accuracy: 0.0429\n",
            "Epoch 66/100\n",
            "278/278 [==============================] - 8s 29ms/step - loss: 6.0716 - sex_out_loss: 0.1981 - age_out_loss: 4.9595 - sex_out_accuracy: 0.9164 - age_out_accuracy: 0.0471 - val_loss: 8.4004 - val_sex_out_loss: 0.2484 - val_age_out_loss: 7.2352 - val_sex_out_accuracy: 0.8854 - val_age_out_accuracy: 0.0429\n",
            "Epoch 67/100\n",
            "278/278 [==============================] - 8s 29ms/step - loss: 6.1153 - sex_out_loss: 0.2006 - age_out_loss: 4.9960 - sex_out_accuracy: 0.9174 - age_out_accuracy: 0.0474 - val_loss: 8.0820 - val_sex_out_loss: 0.2602 - val_age_out_loss: 6.9006 - val_sex_out_accuracy: 0.8795 - val_age_out_accuracy: 0.0429\n",
            "Epoch 68/100\n",
            "278/278 [==============================] - 8s 29ms/step - loss: 6.1315 - sex_out_loss: 0.2052 - age_out_loss: 5.0021 - sex_out_accuracy: 0.9146 - age_out_accuracy: 0.0474 - val_loss: 8.5020 - val_sex_out_loss: 0.2574 - val_age_out_loss: 7.3189 - val_sex_out_accuracy: 0.8934 - val_age_out_accuracy: 0.0429\n",
            "Epoch 69/100\n",
            "278/278 [==============================] - 8s 29ms/step - loss: 6.0493 - sex_out_loss: 0.1949 - age_out_loss: 4.9274 - sex_out_accuracy: 0.9196 - age_out_accuracy: 0.0475 - val_loss: 7.8972 - val_sex_out_loss: 0.2529 - val_age_out_loss: 6.7158 - val_sex_out_accuracy: 0.8925 - val_age_out_accuracy: 0.0429\n",
            "Epoch 70/100\n",
            "278/278 [==============================] - 8s 29ms/step - loss: 6.0461 - sex_out_loss: 0.1951 - age_out_loss: 4.9214 - sex_out_accuracy: 0.9194 - age_out_accuracy: 0.0467 - val_loss: 8.1692 - val_sex_out_loss: 0.2579 - val_age_out_loss: 6.9803 - val_sex_out_accuracy: 0.8863 - val_age_out_accuracy: 0.0429\n",
            "Epoch 71/100\n",
            "278/278 [==============================] - 8s 29ms/step - loss: 6.0581 - sex_out_loss: 0.2014 - age_out_loss: 4.9234 - sex_out_accuracy: 0.9181 - age_out_accuracy: 0.0472 - val_loss: 7.9179 - val_sex_out_loss: 0.2763 - val_age_out_loss: 6.7053 - val_sex_out_accuracy: 0.8897 - val_age_out_accuracy: 0.0429\n",
            "Epoch 72/100\n",
            "278/278 [==============================] - 8s 29ms/step - loss: 6.0449 - sex_out_loss: 0.1995 - age_out_loss: 4.9062 - sex_out_accuracy: 0.9170 - age_out_accuracy: 0.0467 - val_loss: 8.5173 - val_sex_out_loss: 0.2666 - val_age_out_loss: 7.3079 - val_sex_out_accuracy: 0.8890 - val_age_out_accuracy: 0.0429\n",
            "Epoch 73/100\n",
            "278/278 [==============================] - 8s 29ms/step - loss: 6.0147 - sex_out_loss: 0.1956 - age_out_loss: 4.8755 - sex_out_accuracy: 0.9196 - age_out_accuracy: 0.0469 - val_loss: 8.5640 - val_sex_out_loss: 0.2579 - val_age_out_loss: 7.3607 - val_sex_out_accuracy: 0.8898 - val_age_out_accuracy: 0.0429\n",
            "Epoch 74/100\n",
            "278/278 [==============================] - 8s 28ms/step - loss: 5.9320 - sex_out_loss: 0.1899 - age_out_loss: 4.7938 - sex_out_accuracy: 0.9220 - age_out_accuracy: 0.0470 - val_loss: 8.2300 - val_sex_out_loss: 0.2636 - val_age_out_loss: 7.0155 - val_sex_out_accuracy: 0.8797 - val_age_out_accuracy: 0.0429\n",
            "Epoch 75/100\n",
            "278/278 [==============================] - 8s 29ms/step - loss: 5.9757 - sex_out_loss: 0.1931 - age_out_loss: 4.8294 - sex_out_accuracy: 0.9208 - age_out_accuracy: 0.0464 - val_loss: 9.5767 - val_sex_out_loss: 0.2565 - val_age_out_loss: 8.3645 - val_sex_out_accuracy: 0.8920 - val_age_out_accuracy: 0.0429\n",
            "Epoch 76/100\n",
            "278/278 [==============================] - 8s 29ms/step - loss: 6.0589 - sex_out_loss: 0.1972 - age_out_loss: 4.9043 - sex_out_accuracy: 0.9192 - age_out_accuracy: 0.0473 - val_loss: 8.0822 - val_sex_out_loss: 0.2549 - val_age_out_loss: 6.8680 - val_sex_out_accuracy: 0.8883 - val_age_out_accuracy: 0.0429\n",
            "Epoch 77/100\n",
            "278/278 [==============================] - 8s 29ms/step - loss: 5.9694 - sex_out_loss: 0.1891 - age_out_loss: 4.8192 - sex_out_accuracy: 0.9234 - age_out_accuracy: 0.0474 - val_loss: 8.0764 - val_sex_out_loss: 0.2670 - val_age_out_loss: 6.8469 - val_sex_out_accuracy: 0.8898 - val_age_out_accuracy: 0.0429\n",
            "Epoch 78/100\n",
            "278/278 [==============================] - 8s 29ms/step - loss: 6.0186 - sex_out_loss: 0.1930 - age_out_loss: 4.8610 - sex_out_accuracy: 0.9189 - age_out_accuracy: 0.0455 - val_loss: 7.9266 - val_sex_out_loss: 0.2633 - val_age_out_loss: 6.6968 - val_sex_out_accuracy: 0.8910 - val_age_out_accuracy: 0.0429\n",
            "Epoch 79/100\n",
            "278/278 [==============================] - 8s 28ms/step - loss: 5.8842 - sex_out_loss: 0.1940 - age_out_loss: 4.7226 - sex_out_accuracy: 0.9193 - age_out_accuracy: 0.0462 - val_loss: 8.0089 - val_sex_out_loss: 0.2672 - val_age_out_loss: 6.7725 - val_sex_out_accuracy: 0.8898 - val_age_out_accuracy: 0.0427\n",
            "Epoch 80/100\n",
            "278/278 [==============================] - 8s 29ms/step - loss: 6.0013 - sex_out_loss: 0.1976 - age_out_loss: 4.8323 - sex_out_accuracy: 0.9195 - age_out_accuracy: 0.0454 - val_loss: 8.8249 - val_sex_out_loss: 0.2627 - val_age_out_loss: 7.5891 - val_sex_out_accuracy: 0.8974 - val_age_out_accuracy: 0.0429\n",
            "Epoch 81/100\n",
            "278/278 [==============================] - 8s 29ms/step - loss: 5.9205 - sex_out_loss: 0.1916 - age_out_loss: 4.7542 - sex_out_accuracy: 0.9208 - age_out_accuracy: 0.0470 - val_loss: 8.4457 - val_sex_out_loss: 0.2541 - val_age_out_loss: 7.2152 - val_sex_out_accuracy: 0.8925 - val_age_out_accuracy: 0.0429\n",
            "Epoch 82/100\n",
            "278/278 [==============================] - 8s 29ms/step - loss: 5.9712 - sex_out_loss: 0.1896 - age_out_loss: 4.8037 - sex_out_accuracy: 0.9217 - age_out_accuracy: 0.0469 - val_loss: 8.1181 - val_sex_out_loss: 0.2615 - val_age_out_loss: 6.8775 - val_sex_out_accuracy: 0.8935 - val_age_out_accuracy: 0.0429\n",
            "Epoch 83/100\n",
            "278/278 [==============================] - 8s 28ms/step - loss: 5.9008 - sex_out_loss: 0.1874 - age_out_loss: 4.7318 - sex_out_accuracy: 0.9231 - age_out_accuracy: 0.0458 - val_loss: 8.0745 - val_sex_out_loss: 0.2523 - val_age_out_loss: 6.8394 - val_sex_out_accuracy: 0.8954 - val_age_out_accuracy: 0.0429\n",
            "Epoch 84/100\n",
            "278/278 [==============================] - 8s 29ms/step - loss: 5.9569 - sex_out_loss: 0.1899 - age_out_loss: 4.7832 - sex_out_accuracy: 0.9206 - age_out_accuracy: 0.0465 - val_loss: 7.6184 - val_sex_out_loss: 0.2541 - val_age_out_loss: 6.3786 - val_sex_out_accuracy: 0.8978 - val_age_out_accuracy: 0.0429\n",
            "Epoch 85/100\n",
            "278/278 [==============================] - 8s 29ms/step - loss: 5.8757 - sex_out_loss: 0.1879 - age_out_loss: 4.7021 - sex_out_accuracy: 0.9226 - age_out_accuracy: 0.0455 - val_loss: 7.8569 - val_sex_out_loss: 0.2582 - val_age_out_loss: 6.6128 - val_sex_out_accuracy: 0.8839 - val_age_out_accuracy: 0.0429\n",
            "Epoch 86/100\n",
            "278/278 [==============================] - 8s 29ms/step - loss: 5.9200 - sex_out_loss: 0.1890 - age_out_loss: 4.7429 - sex_out_accuracy: 0.9231 - age_out_accuracy: 0.0448 - val_loss: 8.3264 - val_sex_out_loss: 0.2573 - val_age_out_loss: 7.0795 - val_sex_out_accuracy: 0.8929 - val_age_out_accuracy: 0.0429\n",
            "Epoch 87/100\n",
            "278/278 [==============================] - 8s 29ms/step - loss: 5.8689 - sex_out_loss: 0.1927 - age_out_loss: 4.6851 - sex_out_accuracy: 0.9234 - age_out_accuracy: 0.0453 - val_loss: 7.9094 - val_sex_out_loss: 0.2609 - val_age_out_loss: 6.6554 - val_sex_out_accuracy: 0.8954 - val_age_out_accuracy: 0.0429\n",
            "Epoch 88/100\n",
            "278/278 [==============================] - 8s 29ms/step - loss: 5.8903 - sex_out_loss: 0.1898 - age_out_loss: 4.7057 - sex_out_accuracy: 0.9218 - age_out_accuracy: 0.0448 - val_loss: 8.5854 - val_sex_out_loss: 0.2595 - val_age_out_loss: 7.3292 - val_sex_out_accuracy: 0.8905 - val_age_out_accuracy: 0.0429\n",
            "Epoch 89/100\n",
            "278/278 [==============================] - 8s 29ms/step - loss: 5.8658 - sex_out_loss: 0.1941 - age_out_loss: 4.6738 - sex_out_accuracy: 0.9189 - age_out_accuracy: 0.0463 - val_loss: 8.0796 - val_sex_out_loss: 0.2562 - val_age_out_loss: 6.8229 - val_sex_out_accuracy: 0.8865 - val_age_out_accuracy: 0.0429\n",
            "Epoch 90/100\n",
            "278/278 [==============================] - 8s 29ms/step - loss: 5.9230 - sex_out_loss: 0.1838 - age_out_loss: 4.7379 - sex_out_accuracy: 0.9248 - age_out_accuracy: 0.0452 - val_loss: 8.0839 - val_sex_out_loss: 0.2680 - val_age_out_loss: 6.8130 - val_sex_out_accuracy: 0.8947 - val_age_out_accuracy: 0.0427\n",
            "Epoch 91/100\n",
            "278/278 [==============================] - 8s 29ms/step - loss: 5.8675 - sex_out_loss: 0.1835 - age_out_loss: 4.6799 - sex_out_accuracy: 0.9237 - age_out_accuracy: 0.0448 - val_loss: 8.2281 - val_sex_out_loss: 0.2682 - val_age_out_loss: 6.9555 - val_sex_out_accuracy: 0.8961 - val_age_out_accuracy: 0.0429\n",
            "Epoch 92/100\n",
            "278/278 [==============================] - 8s 29ms/step - loss: 5.7960 - sex_out_loss: 0.1865 - age_out_loss: 4.6037 - sex_out_accuracy: 0.9232 - age_out_accuracy: 0.0449 - val_loss: 8.7589 - val_sex_out_loss: 0.2699 - val_age_out_loss: 7.4823 - val_sex_out_accuracy: 0.8859 - val_age_out_accuracy: 0.0429\n",
            "Epoch 93/100\n",
            "278/278 [==============================] - 8s 29ms/step - loss: 5.8969 - sex_out_loss: 0.1817 - age_out_loss: 4.7075 - sex_out_accuracy: 0.9245 - age_out_accuracy: 0.0448 - val_loss: 8.1628 - val_sex_out_loss: 0.2709 - val_age_out_loss: 6.8836 - val_sex_out_accuracy: 0.8895 - val_age_out_accuracy: 0.0429\n",
            "Epoch 94/100\n",
            "278/278 [==============================] - 8s 29ms/step - loss: 5.8765 - sex_out_loss: 0.1851 - age_out_loss: 4.6830 - sex_out_accuracy: 0.9242 - age_out_accuracy: 0.0457 - val_loss: 7.7953 - val_sex_out_loss: 0.2612 - val_age_out_loss: 6.5253 - val_sex_out_accuracy: 0.8952 - val_age_out_accuracy: 0.0429\n",
            "Epoch 95/100\n",
            "278/278 [==============================] - 8s 29ms/step - loss: 5.8929 - sex_out_loss: 0.1832 - age_out_loss: 4.7000 - sex_out_accuracy: 0.9259 - age_out_accuracy: 0.0443 - val_loss: 7.7276 - val_sex_out_loss: 0.2791 - val_age_out_loss: 6.4371 - val_sex_out_accuracy: 0.8888 - val_age_out_accuracy: 0.0429\n",
            "Epoch 96/100\n",
            "278/278 [==============================] - 8s 29ms/step - loss: 5.9006 - sex_out_loss: 0.1886 - age_out_loss: 4.6990 - sex_out_accuracy: 0.9229 - age_out_accuracy: 0.0445 - val_loss: 7.9517 - val_sex_out_loss: 0.2536 - val_age_out_loss: 6.6848 - val_sex_out_accuracy: 0.8915 - val_age_out_accuracy: 0.0429\n",
            "Epoch 97/100\n",
            "278/278 [==============================] - 8s 29ms/step - loss: 5.7478 - sex_out_loss: 0.1824 - age_out_loss: 4.5507 - sex_out_accuracy: 0.9263 - age_out_accuracy: 0.0444 - val_loss: 7.9993 - val_sex_out_loss: 0.2515 - val_age_out_loss: 6.7317 - val_sex_out_accuracy: 0.8957 - val_age_out_accuracy: 0.0427\n",
            "Epoch 98/100\n",
            "278/278 [==============================] - 8s 29ms/step - loss: 5.8062 - sex_out_loss: 0.1844 - age_out_loss: 4.6048 - sex_out_accuracy: 0.9249 - age_out_accuracy: 0.0447 - val_loss: 8.3795 - val_sex_out_loss: 0.2602 - val_age_out_loss: 7.1016 - val_sex_out_accuracy: 0.8937 - val_age_out_accuracy: 0.0429\n",
            "Epoch 99/100\n",
            "278/278 [==============================] - 8s 29ms/step - loss: 5.8091 - sex_out_loss: 0.1826 - age_out_loss: 4.6072 - sex_out_accuracy: 0.9242 - age_out_accuracy: 0.0450 - val_loss: 8.7926 - val_sex_out_loss: 0.2629 - val_age_out_loss: 7.5084 - val_sex_out_accuracy: 0.8919 - val_age_out_accuracy: 0.0429\n",
            "Epoch 100/100\n",
            "278/278 [==============================] - 8s 29ms/step - loss: 5.8194 - sex_out_loss: 0.1800 - age_out_loss: 4.6181 - sex_out_accuracy: 0.9239 - age_out_accuracy: 0.0451 - val_loss: 8.1198 - val_sex_out_loss: 0.2701 - val_age_out_loss: 6.8272 - val_sex_out_accuracy: 0.8892 - val_age_out_accuracy: 0.0429\n"
          ]
        }
      ]
    },
    {
      "cell_type": "markdown",
      "metadata": {
        "id": "N2H3MLbf7Mmm"
      },
      "source": [
        "Evaluation"
      ]
    },
    {
      "cell_type": "code",
      "metadata": {
        "id": "na3HY77M6-W9",
        "colab": {
          "base_uri": "https://localhost:8080/"
        },
        "outputId": "7fff3b70-61ad-4e08-a393-2d7e9c577486"
      },
      "source": [
        "Model.evaluate(X_test,Y_test_2)"
      ],
      "execution_count": null,
      "outputs": [
        {
          "output_type": "stream",
          "name": "stdout",
          "text": [
            "186/186 [==============================] - 1s 7ms/step - loss: 8.1198 - sex_out_loss: 0.2701 - age_out_loss: 6.8272 - sex_out_accuracy: 0.8892 - age_out_accuracy: 0.0429\n"
          ]
        },
        {
          "output_type": "execute_result",
          "data": {
            "text/plain": [
              "[8.11982536315918,\n",
              " 0.2701027989387512,\n",
              " 6.827171802520752,\n",
              " 0.8891513347625732,\n",
              " 0.042854733765125275]"
            ]
          },
          "metadata": {},
          "execution_count": 31
        }
      ]
    },
    {
      "cell_type": "code",
      "metadata": {
        "id": "wiWV3gbA7QYW"
      },
      "source": [
        "pred=Model.predict(X_test)"
      ],
      "execution_count": null,
      "outputs": []
    },
    {
      "cell_type": "code",
      "metadata": {
        "id": "XBdfx-Yw7SGn",
        "colab": {
          "base_uri": "https://localhost:8080/"
        },
        "outputId": "a6e36f88-00a3-4b95-e169-d459a9f635da"
      },
      "source": [
        "pred[1]"
      ],
      "execution_count": null,
      "outputs": [
        {
          "output_type": "execute_result",
          "data": {
            "text/plain": [
              "array([[62.923973],\n",
              "       [ 2.58351 ],\n",
              "       [31.917648],\n",
              "       ...,\n",
              "       [48.1031  ],\n",
              "       [ 2.079551],\n",
              "       [42.658596]], dtype=float32)"
            ]
          },
          "metadata": {},
          "execution_count": 33
        }
      ]
    },
    {
      "cell_type": "code",
      "metadata": {
        "colab": {
          "base_uri": "https://localhost:8080/"
        },
        "id": "paZa9Dj27VuI",
        "outputId": "7ac79fea-c475-47b3-8f99-90bc32195055"
      },
      "source": [
        "plt.plot(save.history['loss'])\n",
        "plt.plot(save.history['val_loss'])\n",
        "plt.title('Model loss')\n",
        "plt.ylabel('Loss')\n",
        "plt.xlabel('Epoch')\n",
        "plt.legend(['Train', 'Validation'], loc='upper left')\n",
        "plt.subplots_adjust(top=1.00, bottom=0.0, left=0.0, right=0.95, hspace=0.25,\n",
        "                        wspace=0.35)"
      ],
      "execution_count": null,
      "outputs": [
        {
          "output_type": "display_data",
          "data": {
            "image/png": "[encoded data removed]",
            "text/plain": [
              "<Figure size 432x288 with 1 Axes>"
            ]
          },
          "metadata": {
            "needs_background": "light"
          }
        }
      ]
    },
    {
      "cell_type": "markdown",
      "metadata": {
        "id": "4-GNn7mZ7cTY"
      },
      "source": [
        "For gender"
      ]
    },
    {
      "cell_type": "code",
      "metadata": {
        "colab": {
          "base_uri": "https://localhost:8080/"
        },
        "id": "3aBzPYeY7dts",
        "outputId": "5d8989e3-42f4-450d-a264-157b0c1c2073"
      },
      "source": [
        "plt.plot(save.history['sex_out_accuracy'])\n",
        "plt.plot(save.history['val_sex_out_accuracy'])\n",
        "plt.title('Model accuracy')\n",
        "plt.ylabel('Accuracy')\n",
        "plt.xlabel('Epoch')\n",
        "plt.legend(['Train', 'Validation'], loc='upper left')\n",
        "plt.subplots_adjust(top=1.00, bottom=0.0, left=0.0, right=0.95, hspace=0.25,\n",
        "                        wspace=0.35)"
      ],
      "execution_count": null,
      "outputs": [
        {
          "output_type": "display_data",
          "data": {
            "image/png": "[encoded data removed]",
            "text/plain": [
              "<Figure size 432x288 with 1 Axes>"
            ]
          },
          "metadata": {
            "needs_background": "light"
          }
        }
      ]
    },
    {
      "cell_type": "markdown",
      "metadata": {
        "id": "g4FXaLfC7gX2"
      },
      "source": [
        "For age"
      ]
    },
    {
      "cell_type": "code",
      "metadata": {
        "colab": {
          "base_uri": "https://localhost:8080/"
        },
        "id": "zLkCH2ah7hak",
        "outputId": "dfbf2165-577e-4c2f-a926-3f548c300ef7"
      },
      "source": [
        "fig, ax = plt.subplots()\n",
        "ax.scatter(Y_test_2[1], pred[1])\n",
        "ax.plot([Y_test_2[1].min(),Y_test_2[1].max()], [Y_test_2[1].min(), Y_test_2[1].max()], 'k--', lw=4)\n",
        "ax.set_xlabel('Actual Age')\n",
        "ax.set_ylabel('Predicted Age')\n",
        "plt.show()"
      ],
      "execution_count": null,
      "outputs": [
        {
          "output_type": "display_data",
          "data": {
            "image/png": "[encoded data removed]",
            "text/plain": [
              "<Figure size 432x288 with 1 Axes>"
            ]
          },
          "metadata": {
            "needs_background": "light"
          }
        }
      ]
    },
    {
      "cell_type": "markdown",
      "metadata": {
        "id": "RrVikFiP7pLJ"
      },
      "source": [
        "For gender"
      ]
    },
    {
      "cell_type": "code",
      "metadata": {
        "id": "JJGQFhCP7qq8"
      },
      "source": [
        "i=0\n",
        "Pred_l=[]\n",
        "while(i<len(pred[0])):\n",
        "\n",
        "  Pred_l.append(int(np.round(pred[0][i])))\n",
        "  i+=1"
      ],
      "execution_count": null,
      "outputs": []
    },
    {
      "cell_type": "code",
      "metadata": {
        "id": "H5ys5yQY7toS"
      },
      "source": [
        "from sklearn.metrics import confusion_matrix \n",
        "\n",
        "from sklearn.metrics import classification_report "
      ],
      "execution_count": null,
      "outputs": []
    },
    {
      "cell_type": "code",
      "metadata": {
        "colab": {
          "base_uri": "https://localhost:8080/"
        },
        "id": "xGeEfAPr7u7w",
        "outputId": "0cd32b65-44a8-461c-e69e-896d86e86d69"
      },
      "source": [
        "report=classification_report(Y_test_2[0], Pred_l)\n",
        "\n",
        "print(report)"
      ],
      "execution_count": null,
      "outputs": [
        {
          "output_type": "stream",
          "name": "stdout",
          "text": [
            "              precision    recall  f1-score   support\n",
            "\n",
            "           0       0.90      0.88      0.89      3117\n",
            "           1       0.87      0.90      0.88      2810\n",
            "\n",
            "    accuracy                           0.89      5927\n",
            "   macro avg       0.89      0.89      0.89      5927\n",
            "weighted avg       0.89      0.89      0.89      5927\n",
            "\n"
          ]
        }
      ]
    },
    {
      "cell_type": "code",
      "metadata": {
        "id": "LMNc-DjS7w8G"
      },
      "source": [
        "results = confusion_matrix(Y_test_2[0], Pred_l)"
      ],
      "execution_count": null,
      "outputs": []
    },
    {
      "cell_type": "code",
      "metadata": {
        "colab": {
          "base_uri": "https://localhost:8080/"
        },
        "id": "4TqzM5KS7yjV",
        "outputId": "1e95bbda-63d6-4809-8884-6a592c3f9000"
      },
      "source": [
        "import seaborn as sns\n",
        "\n",
        "sns.heatmap(results, annot=True)"
      ],
      "execution_count": null,
      "outputs": [
        {
          "output_type": "execute_result",
          "data": {
            "text/plain": [
              "<matplotlib.axes._subplots.AxesSubplot at 0x7f054db5a210>"
            ]
          },
          "metadata": {},
          "execution_count": 41
        },
        {
          "output_type": "display_data",
          "data": {
            "image/png": "[encoded data removed]",
            "text/plain": [
              "<Figure size 432x288 with 2 Axes>"
            ]
          },
          "metadata": {
            "needs_background": "light"
          }
        }
      ]
    },
    {
      "cell_type": "code",
      "metadata": {
        "id": "Ld-L7CRd71q9"
      },
      "source": [
        "def test_image(ind,images_f,images_f_2,Model):\n",
        "#   cv2_imshow(images_f[ind])\n",
        "  plt.imshow(images_f[ind])\n",
        "  image_test=images_f_2[ind]\n",
        "  pred_1=Model.predict(np.array([image_test]))\n",
        "  #print(pred_1)\n",
        "  sex_f=['Male','Female']\n",
        "  age=int(np.round(pred_1[1][0]))\n",
        "  sex=int(np.round(pred_1[0][0]))\n",
        "  print(\"Predicted Age: \"+ str(age))\n",
        "  print(\"Predicted Sex: \"+ sex_f[sex])"
      ],
      "execution_count": null,
      "outputs": []
    },
    {
      "cell_type": "code",
      "metadata": {
        "colab": {
          "base_uri": "https://localhost:8080/"
        },
        "id": "OKl6IvCG73FO",
        "outputId": "eab4839b-b37b-4ca7-fced-07ceff2e78aa"
      },
      "source": [
        "test_image(57,images_f,images_f_2,Model)"
      ],
      "execution_count": null,
      "outputs": [
        {
          "output_type": "stream",
          "name": "stdout",
          "text": [
            "Predicted Age: 51\n",
            "Predicted Sex: Female\n"
          ]
        },
        {
          "output_type": "display_data",
          "data": {
            "image/png": "[encoded data removed]",
            "text/plain": [
              "<Figure size 432x288 with 1 Axes>"
            ]
          },
          "metadata": {
            "needs_background": "light"
          }
        }
      ]
    },
    {
      "cell_type": "code",
      "metadata": {
        "colab": {
          "base_uri": "https://localhost:8080/"
        },
        "id": "Vglk2tWR9Tbr",
        "outputId": "b167f525-743a-447f-9026-0001495dbc5d"
      },
      "source": [
        "test_image(100,images_f,images_f_2,Model)"
      ],
      "execution_count": null,
      "outputs": [
        {
          "output_type": "stream",
          "name": "stdout",
          "text": [
            "Predicted Age: 46\n",
            "Predicted Sex: Male\n"
          ]
        },
        {
          "output_type": "display_data",
          "data": {
            "image/png": "[encoded data removed]",
            "text/plain": [
              "<Figure size 432x288 with 1 Axes>"
            ]
          },
          "metadata": {
            "needs_background": "light"
          }
        }
      ]
    },
    {
      "cell_type": "code",
      "metadata": {
        "colab": {
          "base_uri": "https://localhost:8080/"
        },
        "id": "OX7U1y0P9WOD",
        "outputId": "02036bfd-3752-4f90-be4f-93664cc6450c"
      },
      "source": [
        "test_image(200,images_f,images_f_2,Model)"
      ],
      "execution_count": null,
      "outputs": [
        {
          "output_type": "stream",
          "name": "stdout",
          "text": [
            "Predicted Age: 53\n",
            "Predicted Sex: Male\n"
          ]
        },
        {
          "output_type": "display_data",
          "data": {
            "image/png": "[encoded data removed]",
            "text/plain": [
              "<Figure size 432x288 with 1 Axes>"
            ]
          },
          "metadata": {
            "needs_background": "light"
          }
        }
      ]
    },
    {
      "cell_type": "code",
      "metadata": {
        "colab": {
          "base_uri": "https://localhost:8080/"
        },
        "id": "AFJtNapM95rD",
        "outputId": "452d0ce4-abd3-4112-d559-e62e65cec2f4"
      },
      "source": [
        "test_image(69,images_f,images_f_2,Model)"
      ],
      "execution_count": null,
      "outputs": [
        {
          "output_type": "stream",
          "name": "stdout",
          "text": [
            "Predicted Age: 49\n",
            "Predicted Sex: Male\n"
          ]
        },
        {
          "output_type": "display_data",
          "data": {
            "image/png": "[encoded data removed]",
            "text/plain": [
              "<Figure size 432x288 with 1 Axes>"
            ]
          },
          "metadata": {
            "needs_background": "light"
          }
        }
      ]
    }
  ]
}